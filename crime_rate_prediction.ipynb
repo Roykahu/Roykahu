{
  "nbformat": 4,
  "nbformat_minor": 0,
  "metadata": {
    "colab": {
      "provenance": [],
      "include_colab_link": true
    },
    "kernelspec": {
      "name": "python3",
      "display_name": "Python 3"
    },
    "language_info": {
      "name": "python"
    }
  },
  "cells": [
    {
      "cell_type": "markdown",
      "metadata": {
        "id": "view-in-github",
        "colab_type": "text"
      },
      "source": [
        "<a href=\"https://colab.research.google.com/github/Roykahu/Roykahu/blob/main/crime_rate_prediction.ipynb\" target=\"_parent\"><img src=\"https://colab.research.google.com/assets/colab-badge.svg\" alt=\"Open In Colab\"/></a>"
      ]
    },
    {
      "cell_type": "markdown",
      "source": [
        " Imagine you were hired as a Data Scientist/Analyst by the Central Police Oﬃce of Metropolitan areas, and your job is now to create a predictive model for crime_rate\n",
        "\n",
        " ***variable meaning***\n",
        " \n",
        " Land_area: size in aquare miles\n",
        "\n",
        " total_population: estimated population in thoasands\n",
        "\n",
        " percent_city: percent population in central cities\n",
        "\n",
        " percent_senior: percent of population less than or equal to 65\n",
        "\n",
        " physicians: no. of proffesionally active physicians\n",
        "\n",
        " hospital_beds: total number of hospital beds\n",
        "\n",
        " graduates: percent of adults that finished highschool\n",
        "\n",
        " work_force: no. of persons in workforce in thoasands\n",
        "\n",
        " income: total income in millions of dollars\n",
        "\n",
        " crime_rate: ratio of serious crimes by the total population\n",
        " \n",
        " region: geographical region(4 in total)"
      ],
      "metadata": {
        "id": "mIt4soERiOWP"
      }
    },
    {
      "cell_type": "code",
      "execution_count": 34,
      "metadata": {
        "id": "1TkQQc1YWoK7"
      },
      "outputs": [],
      "source": []
    },
    {
      "cell_type": "code",
      "source": [
        "import numpy as np \n",
        "import pandas as pd "
      ],
      "metadata": {
        "id": "jyplz8rFJDkd"
      },
      "execution_count": 35,
      "outputs": []
    },
    {
      "cell_type": "code",
      "source": [
        "Metropolitant_data = pd.read_csv(\"https://raw.githubusercontent.com/dphi-official/Datasets/master/Standard_Metropolitan_Areas_Data-data.csv\")"
      ],
      "metadata": {
        "id": "nVVqWiV6W6W6"
      },
      "execution_count": 36,
      "outputs": []
    },
    {
      "cell_type": "code",
      "source": [
        "Metropolitant_data.columns"
      ],
      "metadata": {
        "id": "Zh6hkafmZUlW",
        "colab": {
          "base_uri": "https://localhost:8080/"
        },
        "outputId": "24a1ec27-63e6-46fd-8992-53f9ce4c9787"
      },
      "execution_count": 37,
      "outputs": [
        {
          "output_type": "execute_result",
          "data": {
            "text/plain": [
              "Index(['land_area', 'percent_city', 'percent_senior', 'physicians',\n",
              "       'hospital_beds', 'graduates', 'work_force', 'income', 'region',\n",
              "       'crime_rate'],\n",
              "      dtype='object')"
            ]
          },
          "metadata": {},
          "execution_count": 37
        }
      ]
    },
    {
      "cell_type": "code",
      "source": [
        "y = Metropolitant_data.crime_rate\n",
        "#by convectional methods, y is the target variable"
      ],
      "metadata": {
        "id": "iAeQyvLlZY2k"
      },
      "execution_count": 38,
      "outputs": []
    },
    {
      "cell_type": "code",
      "source": [
        "input_variables = ['percent_city', 'percent_senior', 'graduates', 'work_force', 'income', 'region']\n",
        "#by convectional methods, x is input variables"
      ],
      "metadata": {
        "id": "L_0vmJ8tZdoV"
      },
      "execution_count": 39,
      "outputs": []
    },
    {
      "cell_type": "code",
      "source": [
        "X = Metropolitant_data[input_variables]"
      ],
      "metadata": {
        "id": "LHoQsfIGZh0l"
      },
      "execution_count": 40,
      "outputs": []
    },
    {
      "cell_type": "code",
      "source": [
        "Metropolitant_data.describe()#stats"
      ],
      "metadata": {
        "id": "Ix-YBXqmZleq",
        "colab": {
          "base_uri": "https://localhost:8080/",
          "height": 300
        },
        "outputId": "78e7f6e5-be71-4bec-e281-59d3cde6cf01"
      },
      "execution_count": 41,
      "outputs": [
        {
          "output_type": "execute_result",
          "data": {
            "text/plain": [
              "          land_area  percent_city  percent_senior    physicians  \\\n",
              "count     99.000000     99.000000       99.000000     99.000000   \n",
              "mean    2615.727273     42.518182        9.781818   1828.333333   \n",
              "std     3045.826210     17.348277        2.524547   3192.199763   \n",
              "min       47.000000     13.400000        3.900000    140.000000   \n",
              "25%     1408.000000     30.100000        8.350000    459.000000   \n",
              "50%     1951.000000     39.500000        9.700000    774.000000   \n",
              "75%     2890.500000     52.600000       10.750000   1911.500000   \n",
              "max    27293.000000    100.000000       21.800000  25627.000000   \n",
              "\n",
              "       hospital_beds  graduates   work_force        income     region  \\\n",
              "count      99.000000  99.000000    99.000000     99.000000  99.000000   \n",
              "mean     6345.868687  54.463636   449.366667   6762.505051   2.494949   \n",
              "std      9136.202716   7.773286   610.990885  10393.349660   1.013921   \n",
              "min       481.000000  30.300000    66.900000    769.000000   1.000000   \n",
              "25%      2390.000000  50.250000   150.300000   2003.000000   2.000000   \n",
              "50%      3472.000000  54.000000   257.200000   3510.000000   3.000000   \n",
              "75%      6386.500000  58.300000   436.500000   6283.500000   3.000000   \n",
              "max     69678.000000  72.800000  4083.900000  72100.000000   4.000000   \n",
              "\n",
              "       crime_rate  \n",
              "count   99.000000  \n",
              "mean    55.643030  \n",
              "std     13.470943  \n",
              "min     23.320000  \n",
              "25%     46.115000  \n",
              "50%     56.060000  \n",
              "75%     63.860000  \n",
              "max     85.620000  "
            ],
            "text/html": [
              "\n",
              "  <div id=\"df-910cffaf-744d-42d5-80fc-15ce08397833\">\n",
              "    <div class=\"colab-df-container\">\n",
              "      <div>\n",
              "<style scoped>\n",
              "    .dataframe tbody tr th:only-of-type {\n",
              "        vertical-align: middle;\n",
              "    }\n",
              "\n",
              "    .dataframe tbody tr th {\n",
              "        vertical-align: top;\n",
              "    }\n",
              "\n",
              "    .dataframe thead th {\n",
              "        text-align: right;\n",
              "    }\n",
              "</style>\n",
              "<table border=\"1\" class=\"dataframe\">\n",
              "  <thead>\n",
              "    <tr style=\"text-align: right;\">\n",
              "      <th></th>\n",
              "      <th>land_area</th>\n",
              "      <th>percent_city</th>\n",
              "      <th>percent_senior</th>\n",
              "      <th>physicians</th>\n",
              "      <th>hospital_beds</th>\n",
              "      <th>graduates</th>\n",
              "      <th>work_force</th>\n",
              "      <th>income</th>\n",
              "      <th>region</th>\n",
              "      <th>crime_rate</th>\n",
              "    </tr>\n",
              "  </thead>\n",
              "  <tbody>\n",
              "    <tr>\n",
              "      <th>count</th>\n",
              "      <td>99.000000</td>\n",
              "      <td>99.000000</td>\n",
              "      <td>99.000000</td>\n",
              "      <td>99.000000</td>\n",
              "      <td>99.000000</td>\n",
              "      <td>99.000000</td>\n",
              "      <td>99.000000</td>\n",
              "      <td>99.000000</td>\n",
              "      <td>99.000000</td>\n",
              "      <td>99.000000</td>\n",
              "    </tr>\n",
              "    <tr>\n",
              "      <th>mean</th>\n",
              "      <td>2615.727273</td>\n",
              "      <td>42.518182</td>\n",
              "      <td>9.781818</td>\n",
              "      <td>1828.333333</td>\n",
              "      <td>6345.868687</td>\n",
              "      <td>54.463636</td>\n",
              "      <td>449.366667</td>\n",
              "      <td>6762.505051</td>\n",
              "      <td>2.494949</td>\n",
              "      <td>55.643030</td>\n",
              "    </tr>\n",
              "    <tr>\n",
              "      <th>std</th>\n",
              "      <td>3045.826210</td>\n",
              "      <td>17.348277</td>\n",
              "      <td>2.524547</td>\n",
              "      <td>3192.199763</td>\n",
              "      <td>9136.202716</td>\n",
              "      <td>7.773286</td>\n",
              "      <td>610.990885</td>\n",
              "      <td>10393.349660</td>\n",
              "      <td>1.013921</td>\n",
              "      <td>13.470943</td>\n",
              "    </tr>\n",
              "    <tr>\n",
              "      <th>min</th>\n",
              "      <td>47.000000</td>\n",
              "      <td>13.400000</td>\n",
              "      <td>3.900000</td>\n",
              "      <td>140.000000</td>\n",
              "      <td>481.000000</td>\n",
              "      <td>30.300000</td>\n",
              "      <td>66.900000</td>\n",
              "      <td>769.000000</td>\n",
              "      <td>1.000000</td>\n",
              "      <td>23.320000</td>\n",
              "    </tr>\n",
              "    <tr>\n",
              "      <th>25%</th>\n",
              "      <td>1408.000000</td>\n",
              "      <td>30.100000</td>\n",
              "      <td>8.350000</td>\n",
              "      <td>459.000000</td>\n",
              "      <td>2390.000000</td>\n",
              "      <td>50.250000</td>\n",
              "      <td>150.300000</td>\n",
              "      <td>2003.000000</td>\n",
              "      <td>2.000000</td>\n",
              "      <td>46.115000</td>\n",
              "    </tr>\n",
              "    <tr>\n",
              "      <th>50%</th>\n",
              "      <td>1951.000000</td>\n",
              "      <td>39.500000</td>\n",
              "      <td>9.700000</td>\n",
              "      <td>774.000000</td>\n",
              "      <td>3472.000000</td>\n",
              "      <td>54.000000</td>\n",
              "      <td>257.200000</td>\n",
              "      <td>3510.000000</td>\n",
              "      <td>3.000000</td>\n",
              "      <td>56.060000</td>\n",
              "    </tr>\n",
              "    <tr>\n",
              "      <th>75%</th>\n",
              "      <td>2890.500000</td>\n",
              "      <td>52.600000</td>\n",
              "      <td>10.750000</td>\n",
              "      <td>1911.500000</td>\n",
              "      <td>6386.500000</td>\n",
              "      <td>58.300000</td>\n",
              "      <td>436.500000</td>\n",
              "      <td>6283.500000</td>\n",
              "      <td>3.000000</td>\n",
              "      <td>63.860000</td>\n",
              "    </tr>\n",
              "    <tr>\n",
              "      <th>max</th>\n",
              "      <td>27293.000000</td>\n",
              "      <td>100.000000</td>\n",
              "      <td>21.800000</td>\n",
              "      <td>25627.000000</td>\n",
              "      <td>69678.000000</td>\n",
              "      <td>72.800000</td>\n",
              "      <td>4083.900000</td>\n",
              "      <td>72100.000000</td>\n",
              "      <td>4.000000</td>\n",
              "      <td>85.620000</td>\n",
              "    </tr>\n",
              "  </tbody>\n",
              "</table>\n",
              "</div>\n",
              "      <button class=\"colab-df-convert\" onclick=\"convertToInteractive('df-910cffaf-744d-42d5-80fc-15ce08397833')\"\n",
              "              title=\"Convert this dataframe to an interactive table.\"\n",
              "              style=\"display:none;\">\n",
              "        \n",
              "  <svg xmlns=\"http://www.w3.org/2000/svg\" height=\"24px\"viewBox=\"0 0 24 24\"\n",
              "       width=\"24px\">\n",
              "    <path d=\"M0 0h24v24H0V0z\" fill=\"none\"/>\n",
              "    <path d=\"M18.56 5.44l.94 2.06.94-2.06 2.06-.94-2.06-.94-.94-2.06-.94 2.06-2.06.94zm-11 1L8.5 8.5l.94-2.06 2.06-.94-2.06-.94L8.5 2.5l-.94 2.06-2.06.94zm10 10l.94 2.06.94-2.06 2.06-.94-2.06-.94-.94-2.06-.94 2.06-2.06.94z\"/><path d=\"M17.41 7.96l-1.37-1.37c-.4-.4-.92-.59-1.43-.59-.52 0-1.04.2-1.43.59L10.3 9.45l-7.72 7.72c-.78.78-.78 2.05 0 2.83L4 21.41c.39.39.9.59 1.41.59.51 0 1.02-.2 1.41-.59l7.78-7.78 2.81-2.81c.8-.78.8-2.07 0-2.86zM5.41 20L4 18.59l7.72-7.72 1.47 1.35L5.41 20z\"/>\n",
              "  </svg>\n",
              "      </button>\n",
              "      \n",
              "  <style>\n",
              "    .colab-df-container {\n",
              "      display:flex;\n",
              "      flex-wrap:wrap;\n",
              "      gap: 12px;\n",
              "    }\n",
              "\n",
              "    .colab-df-convert {\n",
              "      background-color: #E8F0FE;\n",
              "      border: none;\n",
              "      border-radius: 50%;\n",
              "      cursor: pointer;\n",
              "      display: none;\n",
              "      fill: #1967D2;\n",
              "      height: 32px;\n",
              "      padding: 0 0 0 0;\n",
              "      width: 32px;\n",
              "    }\n",
              "\n",
              "    .colab-df-convert:hover {\n",
              "      background-color: #E2EBFA;\n",
              "      box-shadow: 0px 1px 2px rgba(60, 64, 67, 0.3), 0px 1px 3px 1px rgba(60, 64, 67, 0.15);\n",
              "      fill: #174EA6;\n",
              "    }\n",
              "\n",
              "    [theme=dark] .colab-df-convert {\n",
              "      background-color: #3B4455;\n",
              "      fill: #D2E3FC;\n",
              "    }\n",
              "\n",
              "    [theme=dark] .colab-df-convert:hover {\n",
              "      background-color: #434B5C;\n",
              "      box-shadow: 0px 1px 3px 1px rgba(0, 0, 0, 0.15);\n",
              "      filter: drop-shadow(0px 1px 2px rgba(0, 0, 0, 0.3));\n",
              "      fill: #FFFFFF;\n",
              "    }\n",
              "  </style>\n",
              "\n",
              "      <script>\n",
              "        const buttonEl =\n",
              "          document.querySelector('#df-910cffaf-744d-42d5-80fc-15ce08397833 button.colab-df-convert');\n",
              "        buttonEl.style.display =\n",
              "          google.colab.kernel.accessAllowed ? 'block' : 'none';\n",
              "\n",
              "        async function convertToInteractive(key) {\n",
              "          const element = document.querySelector('#df-910cffaf-744d-42d5-80fc-15ce08397833');\n",
              "          const dataTable =\n",
              "            await google.colab.kernel.invokeFunction('convertToInteractive',\n",
              "                                                     [key], {});\n",
              "          if (!dataTable) return;\n",
              "\n",
              "          const docLinkHtml = 'Like what you see? Visit the ' +\n",
              "            '<a target=\"_blank\" href=https://colab.research.google.com/notebooks/data_table.ipynb>data table notebook</a>'\n",
              "            + ' to learn more about interactive tables.';\n",
              "          element.innerHTML = '';\n",
              "          dataTable['output_type'] = 'display_data';\n",
              "          await google.colab.output.renderOutput(dataTable, element);\n",
              "          const docLink = document.createElement('div');\n",
              "          docLink.innerHTML = docLinkHtml;\n",
              "          element.appendChild(docLink);\n",
              "        }\n",
              "      </script>\n",
              "    </div>\n",
              "  </div>\n",
              "  "
            ]
          },
          "metadata": {},
          "execution_count": 41
        }
      ]
    },
    {
      "cell_type": "code",
      "source": [
        "Metropolitant_data.head()"
      ],
      "metadata": {
        "id": "x3DjI7VtZwMV",
        "colab": {
          "base_uri": "https://localhost:8080/",
          "height": 206
        },
        "outputId": "d5b3ed4a-1770-470a-eef2-7a3db4ca235d"
      },
      "execution_count": 42,
      "outputs": [
        {
          "output_type": "execute_result",
          "data": {
            "text/plain": [
              "   land_area  percent_city  percent_senior  physicians  hospital_beds  \\\n",
              "0       1384          78.1            12.3       25627          69678   \n",
              "1       3719          43.9             9.4       13326          43292   \n",
              "2       3553          37.4            10.7        9724          33731   \n",
              "3       3916          29.9             8.8        6402          24167   \n",
              "4       2480          31.5            10.5        8502          16751   \n",
              "\n",
              "   graduates  work_force  income  region  crime_rate  \n",
              "0       50.1      4083.9   72100       1       75.55  \n",
              "1       53.9      3305.9   54542       2       56.03  \n",
              "2       50.6      2066.3   33216       1       41.32  \n",
              "3       52.2      1966.7   32906       2       67.38  \n",
              "4       66.1      1514.5   26573       4       80.19  "
            ],
            "text/html": [
              "\n",
              "  <div id=\"df-40268915-5544-44bf-97c3-7b23b18660e0\">\n",
              "    <div class=\"colab-df-container\">\n",
              "      <div>\n",
              "<style scoped>\n",
              "    .dataframe tbody tr th:only-of-type {\n",
              "        vertical-align: middle;\n",
              "    }\n",
              "\n",
              "    .dataframe tbody tr th {\n",
              "        vertical-align: top;\n",
              "    }\n",
              "\n",
              "    .dataframe thead th {\n",
              "        text-align: right;\n",
              "    }\n",
              "</style>\n",
              "<table border=\"1\" class=\"dataframe\">\n",
              "  <thead>\n",
              "    <tr style=\"text-align: right;\">\n",
              "      <th></th>\n",
              "      <th>land_area</th>\n",
              "      <th>percent_city</th>\n",
              "      <th>percent_senior</th>\n",
              "      <th>physicians</th>\n",
              "      <th>hospital_beds</th>\n",
              "      <th>graduates</th>\n",
              "      <th>work_force</th>\n",
              "      <th>income</th>\n",
              "      <th>region</th>\n",
              "      <th>crime_rate</th>\n",
              "    </tr>\n",
              "  </thead>\n",
              "  <tbody>\n",
              "    <tr>\n",
              "      <th>0</th>\n",
              "      <td>1384</td>\n",
              "      <td>78.1</td>\n",
              "      <td>12.3</td>\n",
              "      <td>25627</td>\n",
              "      <td>69678</td>\n",
              "      <td>50.1</td>\n",
              "      <td>4083.9</td>\n",
              "      <td>72100</td>\n",
              "      <td>1</td>\n",
              "      <td>75.55</td>\n",
              "    </tr>\n",
              "    <tr>\n",
              "      <th>1</th>\n",
              "      <td>3719</td>\n",
              "      <td>43.9</td>\n",
              "      <td>9.4</td>\n",
              "      <td>13326</td>\n",
              "      <td>43292</td>\n",
              "      <td>53.9</td>\n",
              "      <td>3305.9</td>\n",
              "      <td>54542</td>\n",
              "      <td>2</td>\n",
              "      <td>56.03</td>\n",
              "    </tr>\n",
              "    <tr>\n",
              "      <th>2</th>\n",
              "      <td>3553</td>\n",
              "      <td>37.4</td>\n",
              "      <td>10.7</td>\n",
              "      <td>9724</td>\n",
              "      <td>33731</td>\n",
              "      <td>50.6</td>\n",
              "      <td>2066.3</td>\n",
              "      <td>33216</td>\n",
              "      <td>1</td>\n",
              "      <td>41.32</td>\n",
              "    </tr>\n",
              "    <tr>\n",
              "      <th>3</th>\n",
              "      <td>3916</td>\n",
              "      <td>29.9</td>\n",
              "      <td>8.8</td>\n",
              "      <td>6402</td>\n",
              "      <td>24167</td>\n",
              "      <td>52.2</td>\n",
              "      <td>1966.7</td>\n",
              "      <td>32906</td>\n",
              "      <td>2</td>\n",
              "      <td>67.38</td>\n",
              "    </tr>\n",
              "    <tr>\n",
              "      <th>4</th>\n",
              "      <td>2480</td>\n",
              "      <td>31.5</td>\n",
              "      <td>10.5</td>\n",
              "      <td>8502</td>\n",
              "      <td>16751</td>\n",
              "      <td>66.1</td>\n",
              "      <td>1514.5</td>\n",
              "      <td>26573</td>\n",
              "      <td>4</td>\n",
              "      <td>80.19</td>\n",
              "    </tr>\n",
              "  </tbody>\n",
              "</table>\n",
              "</div>\n",
              "      <button class=\"colab-df-convert\" onclick=\"convertToInteractive('df-40268915-5544-44bf-97c3-7b23b18660e0')\"\n",
              "              title=\"Convert this dataframe to an interactive table.\"\n",
              "              style=\"display:none;\">\n",
              "        \n",
              "  <svg xmlns=\"http://www.w3.org/2000/svg\" height=\"24px\"viewBox=\"0 0 24 24\"\n",
              "       width=\"24px\">\n",
              "    <path d=\"M0 0h24v24H0V0z\" fill=\"none\"/>\n",
              "    <path d=\"M18.56 5.44l.94 2.06.94-2.06 2.06-.94-2.06-.94-.94-2.06-.94 2.06-2.06.94zm-11 1L8.5 8.5l.94-2.06 2.06-.94-2.06-.94L8.5 2.5l-.94 2.06-2.06.94zm10 10l.94 2.06.94-2.06 2.06-.94-2.06-.94-.94-2.06-.94 2.06-2.06.94z\"/><path d=\"M17.41 7.96l-1.37-1.37c-.4-.4-.92-.59-1.43-.59-.52 0-1.04.2-1.43.59L10.3 9.45l-7.72 7.72c-.78.78-.78 2.05 0 2.83L4 21.41c.39.39.9.59 1.41.59.51 0 1.02-.2 1.41-.59l7.78-7.78 2.81-2.81c.8-.78.8-2.07 0-2.86zM5.41 20L4 18.59l7.72-7.72 1.47 1.35L5.41 20z\"/>\n",
              "  </svg>\n",
              "      </button>\n",
              "      \n",
              "  <style>\n",
              "    .colab-df-container {\n",
              "      display:flex;\n",
              "      flex-wrap:wrap;\n",
              "      gap: 12px;\n",
              "    }\n",
              "\n",
              "    .colab-df-convert {\n",
              "      background-color: #E8F0FE;\n",
              "      border: none;\n",
              "      border-radius: 50%;\n",
              "      cursor: pointer;\n",
              "      display: none;\n",
              "      fill: #1967D2;\n",
              "      height: 32px;\n",
              "      padding: 0 0 0 0;\n",
              "      width: 32px;\n",
              "    }\n",
              "\n",
              "    .colab-df-convert:hover {\n",
              "      background-color: #E2EBFA;\n",
              "      box-shadow: 0px 1px 2px rgba(60, 64, 67, 0.3), 0px 1px 3px 1px rgba(60, 64, 67, 0.15);\n",
              "      fill: #174EA6;\n",
              "    }\n",
              "\n",
              "    [theme=dark] .colab-df-convert {\n",
              "      background-color: #3B4455;\n",
              "      fill: #D2E3FC;\n",
              "    }\n",
              "\n",
              "    [theme=dark] .colab-df-convert:hover {\n",
              "      background-color: #434B5C;\n",
              "      box-shadow: 0px 1px 3px 1px rgba(0, 0, 0, 0.15);\n",
              "      filter: drop-shadow(0px 1px 2px rgba(0, 0, 0, 0.3));\n",
              "      fill: #FFFFFF;\n",
              "    }\n",
              "  </style>\n",
              "\n",
              "      <script>\n",
              "        const buttonEl =\n",
              "          document.querySelector('#df-40268915-5544-44bf-97c3-7b23b18660e0 button.colab-df-convert');\n",
              "        buttonEl.style.display =\n",
              "          google.colab.kernel.accessAllowed ? 'block' : 'none';\n",
              "\n",
              "        async function convertToInteractive(key) {\n",
              "          const element = document.querySelector('#df-40268915-5544-44bf-97c3-7b23b18660e0');\n",
              "          const dataTable =\n",
              "            await google.colab.kernel.invokeFunction('convertToInteractive',\n",
              "                                                     [key], {});\n",
              "          if (!dataTable) return;\n",
              "\n",
              "          const docLinkHtml = 'Like what you see? Visit the ' +\n",
              "            '<a target=\"_blank\" href=https://colab.research.google.com/notebooks/data_table.ipynb>data table notebook</a>'\n",
              "            + ' to learn more about interactive tables.';\n",
              "          element.innerHTML = '';\n",
              "          dataTable['output_type'] = 'display_data';\n",
              "          await google.colab.output.renderOutput(dataTable, element);\n",
              "          const docLink = document.createElement('div');\n",
              "          docLink.innerHTML = docLinkHtml;\n",
              "          element.appendChild(docLink);\n",
              "        }\n",
              "      </script>\n",
              "    </div>\n",
              "  </div>\n",
              "  "
            ]
          },
          "metadata": {},
          "execution_count": 42
        }
      ]
    },
    {
      "cell_type": "code",
      "source": [
        "Metropolitant_data.isnull().sum()\n",
        "#no null values, hence straight foward"
      ],
      "metadata": {
        "id": "z856pSSiZ1e8",
        "colab": {
          "base_uri": "https://localhost:8080/"
        },
        "outputId": "2bfd2026-a9fc-422e-916c-a3cf4433a941"
      },
      "execution_count": 43,
      "outputs": [
        {
          "output_type": "execute_result",
          "data": {
            "text/plain": [
              "land_area         0\n",
              "percent_city      0\n",
              "percent_senior    0\n",
              "physicians        0\n",
              "hospital_beds     0\n",
              "graduates         0\n",
              "work_force        0\n",
              "income            0\n",
              "region            0\n",
              "crime_rate        0\n",
              "dtype: int64"
            ]
          },
          "metadata": {},
          "execution_count": 43
        }
      ]
    },
    {
      "cell_type": "code",
      "source": [
        "from sklearn.model_selection import train_test_split\n",
        "X_train, X_test, y_train, y_test = train_test_split(X, y, test_size=0.3, random_state=1)"
      ],
      "metadata": {
        "id": "3h2lueRIdDS2"
      },
      "execution_count": 44,
      "outputs": []
    },
    {
      "cell_type": "code",
      "source": [
        "#this sklearn(scikit learn)is used to create models\n",
        "from sklearn.tree import DecisionTreeRegressor\n",
        "\n",
        "# Define model. Specify a number for random_state to ensure same results each run\n",
        "#am yet to fully understand the statement above but it is very important to include it(random state should be constant from here henceforth)\n",
        "Model = DecisionTreeRegressor(random_state=1)\n",
        "\n",
        "# Fit model\n",
        "Model.fit(X_train, y_train)"
      ],
      "metadata": {
        "id": "SLBnqFRkd0oP",
        "colab": {
          "base_uri": "https://localhost:8080/"
        },
        "outputId": "8c94888a-b731-4cf8-ee9a-0ef19c28cdf8"
      },
      "execution_count": 45,
      "outputs": [
        {
          "output_type": "execute_result",
          "data": {
            "text/plain": [
              "DecisionTreeRegressor(random_state=1)"
            ]
          },
          "metadata": {},
          "execution_count": 45
        }
      ]
    },
    {
      "cell_type": "code",
      "source": [
        "from sklearn.tree import export_graphviz\n",
        "import graphviz"
      ],
      "metadata": {
        "id": "1DBg8LRud276"
      },
      "execution_count": 46,
      "outputs": []
    },
    {
      "cell_type": "code",
      "source": [
        "print(\"Making predictions for the first five indexes:\")\n",
        "print(X.head())\n",
        "print(\"The predictions are\")\n",
        "print(Model.predict(X.head()))"
      ],
      "metadata": {
        "id": "2SpuqmBJfDtw",
        "colab": {
          "base_uri": "https://localhost:8080/"
        },
        "outputId": "a06e2704-3a07-4fbf-d902-b56cd648f465"
      },
      "execution_count": 47,
      "outputs": [
        {
          "output_type": "stream",
          "name": "stdout",
          "text": [
            "Making predictions for the first five indexes:\n",
            "   percent_city  percent_senior  graduates  work_force  income  region\n",
            "0          78.1            12.3       50.1      4083.9   72100       1\n",
            "1          43.9             9.4       53.9      3305.9   54542       2\n",
            "2          37.4            10.7       50.6      2066.3   33216       1\n",
            "3          29.9             8.8       52.2      1966.7   32906       2\n",
            "4          31.5            10.5       66.1      1514.5   26573       4\n",
            "The predictions are\n",
            "[75.55 56.03 56.55 67.38 80.19]\n"
          ]
        }
      ]
    },
    {
      "cell_type": "code",
      "source": [
        "from sklearn.metrics import accuracy_score\n",
        "#later came to find out that i cannot use accuracy score here because this is not a classification problem"
      ],
      "metadata": {
        "id": "v8-Ww5U9fiDe"
      },
      "execution_count": 48,
      "outputs": []
    },
    {
      "cell_type": "code",
      "source": [],
      "metadata": {
        "id": "fu5imeiS2Z_G"
      },
      "execution_count": 48,
      "outputs": []
    }
  ]
}